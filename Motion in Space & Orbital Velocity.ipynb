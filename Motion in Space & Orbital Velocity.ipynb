{
 "cells": [
  {
   "cell_type": "code",
   "execution_count": 29,
   "id": "37cd9e28-6636-4b02-9c19-938e937416fb",
   "metadata": {},
   "outputs": [],
   "source": [
    "### Motion in Space & Orbital Mechanics\n",
    "\n",
    "\n",
    "### Constants ###\n",
    "\n",
    "### Mass in [kg]\n",
    "m_mercury = 3.285E+23       #### [kg]\n",
    "m_earth = 5.972E+24         #### [kg]\n",
    "m_mars = 6.417E+23          #### [kg]\n",
    "m_jupiter = 1.898E+27       #### [kg]\n",
    "\n",
    "### Radius in [m]\n",
    "r_mercury = 2.4397E+6       #### [m]\n",
    "r_earth = 6.3781E+6         #### [m]\n",
    "r_mars = 3.3855E+6          #### [m]\n",
    "r_jupiter = 6.9911E+7       #### [m]\n",
    "\n",
    "### Gravitational constant [ N m^2 / kg^2] \n",
    "G = 6.671E-11\n",
    "G_precision = 6.67430E-11\n"
   ]
  },
  {
   "cell_type": "code",
   "execution_count": null,
   "id": "ed2fb3d4-0d92-4c6e-ac73-2250a46171ca",
   "metadata": {},
   "outputs": [],
   "source": [
    "### Concepts ###\n"
   ]
  },
  {
   "cell_type": "code",
   "execution_count": 19,
   "id": "07259cd6-08fe-468e-8daa-dc726c0840fe",
   "metadata": {},
   "outputs": [
    {
     "name": "stdout",
     "output_type": "stream",
     "text": [
      "100.0 [N]\n"
     ]
    }
   ],
   "source": [
    "\n",
    "### Momentum change with constant mass = impulse \n",
    "###  m [kg] * (Vf - Vi) [kg m / s] = F [N] dt[s]\n",
    "m1 = 120\n",
    "#vf = 36 [km / hr] * 1000 [m] / 1 [km] * 1 hr / 60 min * 1 min / 60 sec \n",
    "vf = 36*1000/60/60          ### [m / s]\n",
    "vi = 0                      ### [m / s]\n",
    "dt = 12                     ### [s]\n",
    "f = 120 * (vf - vi) / dt    ### [N]\n",
    "print( round( f , 1) , str('[N]'))\n",
    "\n"
   ]
  },
  {
   "cell_type": "code",
   "execution_count": 20,
   "id": "70e67b1c-e451-41ed-81af-989f2f7f9af5",
   "metadata": {},
   "outputs": [
    {
     "name": "stdout",
     "output_type": "stream",
     "text": [
      "66.2 [kg]\n"
     ]
    }
   ],
   "source": [
    "### Gravity @ surface of planet (scalar form thus no vector r / |r| or r-hat\n",
    "### solve for force :: F = G * m1 * m2 / r^2\n",
    "### solve for mass 1 :: F * r^2 / G m2\n",
    "f2 = 648.5 # [N]\n",
    "m1 = (f2 * r_earth ** 2) / (G * m_earth)\n",
    "print( round( m1 , 1)  , '[kg]')"
   ]
  },
  {
   "cell_type": "code",
   "execution_count": 21,
   "id": "217524c4-b83f-40fe-ac66-484e36d083fb",
   "metadata": {},
   "outputs": [
    {
     "name": "stdout",
     "output_type": "stream",
     "text": [
      "243.8 [N]\n"
     ]
    }
   ],
   "source": [
    "### Force at the surface of a planet\n",
    "f3 = G * m1 * m_mercury / r_mercury ** 2\n",
    "print( round( f3 , 1)  , '[N]')"
   ]
  },
  {
   "cell_type": "code",
   "execution_count": 24,
   "id": "e7e93705-5d72-4c06-97b0-6a64d190dc26",
   "metadata": {},
   "outputs": [
    {
     "name": "stdout",
     "output_type": "stream",
     "text": [
      "25.91 [N]\n"
     ]
    }
   ],
   "source": [
    "### Acceleration on Jupiter surface\n",
    "a6 = G  * m_jupiter / r_jupiter ** 2\n",
    "print( round( a6 , 2)  , '[N]')"
   ]
  },
  {
   "cell_type": "code",
   "execution_count": 33,
   "id": "86af7f95-03ea-46ea-821c-bf702e156f98",
   "metadata": {},
   "outputs": [
    {
     "name": "stdout",
     "output_type": "stream",
     "text": [
      "831.5 [N]\n",
      "9.79 [m / s^2]\n"
     ]
    }
   ],
   "source": [
    "### Force experienced by mass on surface of planet [earth] accelerating\n",
    "### Force total = Force Gravity + Force mass acceleration\n",
    "m = 59  ## [kg]\n",
    "a = 4.3 ##[m / s]\n",
    "Ag = G * m_earth / r_earth**2\n",
    "Ft = (G * m_earth * m / r_earth**2) + m*a\n",
    "print( round( Ft , 2)  , '[N]')\n",
    "print( round( Ag , 2)  , '[m / s^2]')"
   ]
  },
  {
   "cell_type": "code",
   "execution_count": 54,
   "id": "b2847193-220f-4811-b838-d81f282e4c80",
   "metadata": {},
   "outputs": [
    {
     "name": "stdout",
     "output_type": "stream",
     "text": [
      "13479283169.08 [m]\n",
      "1.35E+10 [m]\n",
      "Acceleration of gravity:: mars at point  p =  2.35608E-07 [m / s^2]\n",
      "Acceleration of gravity:: earth at point p =  2.35608E-07 [m / s^2]\n"
     ]
    }
   ],
   "source": [
    "### Zero gravity between planets::\n",
    "s = 5.46E10 ### [M]\n",
    "w_ratio = m_mars / m_earth\n",
    "p = (s * w_ratio**.5) / (1 + ( w_ratio )**.5)\n",
    "print( round( p , 2)  , '[m]')\n",
    "print( \"{:.2E}\".format(p) , '[m]' )\n",
    "\n",
    "### check forces are equal and opposite::\n",
    "a_mars = G * m_mars / p**2\n",
    "a_earth = G * m_earth / (s-p)**2\n",
    "print( 'Acceleration of gravity:: mars at point  p = ' , \"{:.5E}\".format( a_mars )  , '[m / s^2]')\n",
    "print( 'Acceleration of gravity:: earth at point p = ' , \"{:.5E}\".format( a_earth )  , '[m / s^2]')"
   ]
  },
  {
   "cell_type": "code",
   "execution_count": 42,
   "id": "98e44b5c-e852-46d8-a81d-b66d4893376a",
   "metadata": {},
   "outputs": [
    {
     "name": "stdout",
     "output_type": "stream",
     "text": [
      "mass-rate =  295.22 [kg / s]\n"
     ]
    }
   ],
   "source": [
    "### Calculate mass flow\n",
    "## Fx due to gravity = mass_rate * exh velocity\n",
    "## mass_rate = Fx_grav / exh velocity\n",
    "Ms = 5.49E+5  ## [kg]\n",
    "Mx = 1.309E+22 ## [kg]\n",
    "Rx = 1.1883E+6 ## [m]\n",
    "Vexh = 1.15E3 ## [m/s]\n",
    "fxg = G * Ms * Mx / Rx ** 2\n",
    "mass_rate = fxg / Vexh\n",
    "print( 'mass-rate = ' , round( mass_rate , 2)  , '[kg / s]')\n"
   ]
  },
  {
   "cell_type": "code",
   "execution_count": 45,
   "id": "37ab10e9-2213-49ce-b55c-dfeaa103b03b",
   "metadata": {},
   "outputs": [
    {
     "name": "stdout",
     "output_type": "stream",
     "text": [
      "Vo 7.2 [km]\n"
     ]
    }
   ],
   "source": [
    "### Orbital Velocity\n",
    "alt = 1.205E6\n",
    "r = r_earth + alt\n",
    "Vo = (G * m_earth / r)**.5\n",
    "print('Vo' ,  round(Vo / 1000 , 1) , '[km]')"
   ]
  },
  {
   "cell_type": "code",
   "execution_count": 48,
   "id": "61975aac-5a0b-4fee-beea-d7771f19bbdc",
   "metadata": {},
   "outputs": [
    {
     "name": "stdout",
     "output_type": "stream",
     "text": [
      "F =  1.2 [uN]\n"
     ]
    }
   ],
   "source": [
    "### Gravitational force between asteroid and satellite\n",
    "Ma = 3.405E+13    ## [kg]\n",
    "Ra = 9.45E5       ## [m] \n",
    "M_tractor = 1090  ##[kg]\n",
    "alt = 500E+3      ## [m]\n",
    "\n",
    "F = G * Ma * M_tractor / ((Ra + alt) ** 2) ## [N]\n",
    "print('F = ' ,  round(F * 1E+6 , 1) , '[uN]')"
   ]
  },
  {
   "cell_type": "code",
   "execution_count": null,
   "id": "dc1c11cd-3df1-4711-b916-84cd4cd2c296",
   "metadata": {},
   "outputs": [],
   "source": []
  }
 ],
 "metadata": {
  "kernelspec": {
   "display_name": "Python 3",
   "language": "python",
   "name": "python3"
  },
  "language_info": {
   "codemirror_mode": {
    "name": "ipython",
    "version": 3
   },
   "file_extension": ".py",
   "mimetype": "text/x-python",
   "name": "python",
   "nbconvert_exporter": "python",
   "pygments_lexer": "ipython3",
   "version": "3.8.2"
  }
 },
 "nbformat": 4,
 "nbformat_minor": 5
}

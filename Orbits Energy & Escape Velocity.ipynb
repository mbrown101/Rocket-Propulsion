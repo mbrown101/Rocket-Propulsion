{
 "cells": [
  {
   "cell_type": "code",
   "execution_count": null,
   "id": "4fc2d971-ecfb-4d1c-8cc0-4398258085d0",
   "metadata": {},
   "outputs": [],
   "source": [
    "### Orbits & Escape Velocity"
   ]
  },
  {
   "cell_type": "code",
   "execution_count": 103,
   "id": "6d1479ad-0058-482b-b9db-263d278a04b2",
   "metadata": {},
   "outputs": [],
   "source": [
    "### Packages\n",
    "import math\n",
    "\n",
    "### Constants\n",
    "\n",
    "# Mass\n",
    "m_moon = 7.347E+22       ### [kg]\n",
    "m_earth = 5.972E+24      ### [kg]\n",
    "m_mars = 6.417E+23       ### [kg]\n",
    "m_jupiter = 1.898E+27    ### [kg]\n",
    "\n",
    "# Raduis\n",
    "r_moon = 1.7311E+6          #### [m]\n",
    "r_earth = 6.3781E+6         #### [m]\n",
    "r_mars = 3.3855E+6          #### [m]\n",
    "r_jupiter = 6.9911E+7       #### [m]\n",
    "\n",
    "### Gravitational constant [ N m^2 / kg^2] \n",
    "G = 6.671E-11\n",
    "\n",
    "### Acceleration of gravity at earth's surface [m / s^2]\n",
    "a = 9.81 \n",
    "\n",
    "### Pi\n",
    "pi = round(3.141592653589793 , 2)\n",
    "\n",
    "\n"
   ]
  },
  {
   "cell_type": "markdown",
   "id": "b1f75b4e-d319-4ab8-80fe-370643a3f84e",
   "metadata": {
    "tags": []
   },
   "source": [
    "## Escape Velocity calculation:: \n",
    "\n",
    "Using energy:\n",
    "\n",
    "KE<sub>i</sub> + PE<sub>i</sub> = KE<sub>f</sub> + PE<sub>f</sub>\n",
    "\n",
    "where:  \n",
    "&nbsp;&nbsp;&nbsp;&nbsp; KE = kenitic energy = $\\frac{1}{2}$ mV<sup>2</sup>  \n",
    "&nbsp;&nbsp;&nbsp;&nbsp; PE = potential energy = mgh\n",
    "\n",
    "Consider, however,   \n",
    "&nbsp;&nbsp;&nbsp;&nbsp; g = -$\\frac{GM}{r^2}$ (scalar value)  \n",
    "&nbsp;&nbsp;&nbsp;&nbsp; h = r which is the distance from the center of mass [m]\n",
    "\n",
    "Thus PE = -m$\\frac{GM}{r^2}$*r = -$\\frac{GMm}{r}$\n",
    "\n",
    "In the final state:  \n",
    "&nbsp;&nbsp;&nbsp;&nbsp; the object just reaches inifinity with zero velociy, thus KE<sub>f</sub> = 0  \n",
    "&nbsp;&nbsp;&nbsp;&nbsp; r is so great that PE<sub>f</sub> -> zero  \n",
    "\n",
    "We are now left with:  \n",
    "&nbsp;&nbsp;&nbsp;&nbsp; KE<sub>i</sub> + PE<sub>i</sub> = 0  \n",
    "\n",
    "Rearranging:  \n",
    "&nbsp;&nbsp;&nbsp;&nbsp; KE<sub>i</sub> = -PE<sub>i</sub>\n",
    "\n",
    "&nbsp;&nbsp;&nbsp;&nbsp; $\\frac{1}{2}$V<sup>2</sup> = -$\\frac{-GMm}{rm}$   \n",
    "\n",
    "&nbsp;&nbsp;&nbsp;&nbsp; V<sub>e</sub> = $\\sqrt{\\frac{2GM}{r}}$  \n",
    "\n",
    "where:  \n",
    "&nbsp;&nbsp;&nbsp;&nbsp; r = initial distance from center of body's mass [m]  \n",
    "&nbsp;&nbsp;&nbsp;&nbsp; M = mass of body [kg] for two body problem w/ smaller body mass << large body mass   \n",
    "&nbsp;&nbsp;&nbsp;&nbsp; G = gravitational constant [ N m^2 / kg^2] "
   ]
  },
  {
   "cell_type": "code",
   "execution_count": 114,
   "id": "14138df1-00b8-489b-9452-f37e4848b468",
   "metadata": {},
   "outputs": [
    {
     "name": "stdout",
     "output_type": "stream",
     "text": [
      "11177.0 [m / s]\n",
      "11.2 [km / s]\n"
     ]
    }
   ],
   "source": [
    "### Escape velocity::\n",
    "\n",
    "v_esc = (2 * G * m_earth / r_earth) ** .5\n",
    "print( round( v_esc , 1) , str('[m / s]'))\n",
    "print( round( v_esc / 1000 , 1) , str('[km / s]'))"
   ]
  },
  {
   "cell_type": "code",
   "execution_count": 118,
   "id": "f9d0bfe3-3f26-4ab5-a8a1-95803751cf38",
   "metadata": {},
   "outputs": [
    {
     "name": "stdout",
     "output_type": "stream",
     "text": [
      "8628100.0\n",
      "54184468.0\n",
      "7974.01 [ s ]\n"
     ]
    }
   ],
   "source": [
    "### Period::\n",
    "\n",
    "h = 2250E+3 ## [m]\n",
    "Vo = (G * m_earth / (h + r_earth)) ** .5  ## orbital valocity\n",
    "circ = 2*pi * (h + r_earth) ### circumference = 2pi*r [m]\n",
    "tt = circ / Vo ## [1/s] \n",
    "print( round( tt  , 2) , str('[ s ]'))"
   ]
  },
  {
   "cell_type": "code",
   "execution_count": 115,
   "id": "9077254c-4114-4b67-ab8a-54bde664758e",
   "metadata": {
    "tags": []
   },
   "outputs": [
    {
     "name": "stdout",
     "output_type": "stream",
     "text": [
      "2379.6024636816383 [m/s] - escape velocity from surface of the moon\n",
      "2304.8663220341004 [m/s] - escape velocity from orbital alt of 114083.2 [m]\n"
     ]
    }
   ],
   "source": [
    "### Calculate escape velocity\n",
    "\n",
    "orb_alt = 114.0832E+3 ### [m]\n",
    "V_esc_moon_surf = (2 * G * m_moon / r_moon) ** .5\n",
    "print(V_esc_moon_surf , '[m/s] - escape velocity from surface of the moon')\n",
    "\n",
    "\n",
    "orb_alt = 114.0832E+3 ### [m]\n",
    "V_esc_moon_orbit = (2 * G * m_moon / (r_moon + orb_alt)) ** .5\n",
    "print(V_esc_moon_orbit , '[m/s] - escape velocity from orbital alt of' , orb_alt , '[m]')"
   ]
  },
  {
   "cell_type": "markdown",
   "id": "e6dadf53-8418-4407-bc99-199e405ce45a",
   "metadata": {},
   "source": [
    "## Geosynchronous Orbital Radius:: \n",
    "\n",
    "Given rotational rate, mass and radius of planet,   \n",
    "\n",
    "Set orbital velocity = angular velocity * orbital radius:   \n",
    "&nbsp;&nbsp;&nbsp;&nbsp;  V<sub>o</sub> = wr  \n",
    "&nbsp;&nbsp;&nbsp;&nbsp;  \n",
    "&nbsp;&nbsp;&nbsp;&nbsp; $\\sqrt{\\frac{GM}{r}}$  = wr  \n",
    "&nbsp;&nbsp;&nbsp;&nbsp;  \n",
    "&nbsp;&nbsp;&nbsp;&nbsp;  $\\frac{GM}{r}$ = w<sup>2</sup>r<sup>2</sup>  \n",
    "&nbsp;&nbsp;&nbsp;&nbsp;  \n",
    "&nbsp;&nbsp;&nbsp;&nbsp;  $\\frac{GM}{w^2}$ = r<sup>3</sup>  \n",
    "&nbsp;&nbsp;&nbsp;&nbsp;  \n",
    "&nbsp;&nbsp;&nbsp;&nbsp; $\\sqrt[3]{\\frac{GM}{w^2}}$ = r "
   ]
  },
  {
   "cell_type": "code",
   "execution_count": 79,
   "id": "aa6a59e5-0619-4a58-ab2a-21aa90b24907",
   "metadata": {},
   "outputs": [
    {
     "name": "stdout",
     "output_type": "stream",
     "text": [
      "20427.8 = orbital radius between center of mass of mars and satelite in [km]\n",
      "17042.3 = orbital altitude above surface of mars in [km]\n"
     ]
    }
   ],
   "source": [
    "### Geosync alt of mars\n",
    "\n",
    "T_mars = (24*60*60) + 37*60  ### 24 hrs * (60 min / hr) * (60 sec / min) + 37 min * (60 sec / min)  ### satelite period in seconds = 1 planet rotation\n",
    "w = 2 * pi / T_mars ### [rad / sec]\n",
    "r = (G * m_mars / (w**2))**(1/3)\n",
    "alt = (r - r_mars) / 1000 ### [km]\n",
    "print(round(r / 1000 , 1) , '= orbital radius between center of mass of mars and satelite in [km]')\n",
    "print(round(alt , 1) , '= orbital altitude above surface of mars in [km]')\n"
   ]
  },
  {
   "cell_type": "markdown",
   "id": "69eb2530-ed9d-48b7-af94-8b8f6fee28d0",
   "metadata": {},
   "source": [
    "## Total Velocity.... transit from surface to orbital radius at orbital velocty\n",
    "\n",
    "Let:\n",
    "\n",
    "&nbsp;&nbsp;&nbsp;&nbsp;  F = G$\\frac{Mm}{r^2}$ \n",
    "\n",
    "Consider work:  \n",
    "\n",
    "&nbsp;&nbsp;&nbsp;&nbsp;  dw = Fdr = G$\\frac{Mm}{r^2}$ dr  \n",
    "\n",
    "Integrating both sides...\n",
    "\n",
    "&nbsp;&nbsp;&nbsp;&nbsp;  $\\int$dw =      $\\int\\limits_i^f$ G$\\frac{Mm}{r^2}$ dr  \n",
    "\n",
    "&nbsp;&nbsp;&nbsp;&nbsp;  w = $\\int\\limits_i^f$ G$\\frac{Mm}{r^2}$ dr    \n",
    "\n",
    "Consider energy:\n",
    "\n",
    "Total Kenitic Energy = Work to achieve new distance from mass + Addition of Kenitic energy  \n",
    "\n",
    "&nbsp;&nbsp;&nbsp;&nbsp; $\\frac{1}{2}$mV<sub>t</sub><sup>2</sup> = $\\int\\limits_i^f$ G$\\frac{Mm}{r^2}$ dr  + $\\frac{1}{2}m$V<sub>o</sub><sup>2</sup>  \n",
    "\n",
    "where:  \n",
    "&nbsp;&nbsp;&nbsp;&nbsp; Integration limit i = initial radius , R   \n",
    "&nbsp;&nbsp;&nbsp;&nbsp; Integration limit f = final radius , R + alt    \n",
    "\n",
    "\n",
    "Cancel mass of satelite:\n",
    "\n",
    "&nbsp;&nbsp;&nbsp;&nbsp; $\\frac{1}{2}$V<sub>t</sub><sup>2</sup> = $\\int\\limits_i^f$ G$\\frac{M}{r^2}$ dr  + $\\frac{1}{2}$V<sub>o</sub><sup>2</sup> \n",
    "\n",
    "Substitute:: \n",
    "\n",
    "&nbsp;&nbsp;&nbsp;&nbsp; V<sub>o</sub> = $\\sqrt{\\frac{GM}{r}}$  \n",
    "\n",
    "&nbsp;&nbsp;&nbsp;&nbsp; $\\frac{1}{2}$V<sub>t</sub><sup>2</sup> = GM ($\\frac{1}{R}$ - $\\frac{1}{R+alt}$ ) + $\\frac{1}{2}$ $\\frac{GM}{R+alt}$  \n",
    "\n",
    "Consolidate::  \n",
    "&nbsp;&nbsp;&nbsp;&nbsp; $\\frac{1}{2}$V<sub>t</sub><sup>2</sup> = GM ($\\frac{1}{R}$ - $\\frac{1}{R+alt}$ + $\\frac{1}{2}$$\\frac{1}{R+alt}$ ) \n",
    "&nbsp;&nbsp;&nbsp;&nbsp;  \n",
    "&nbsp;&nbsp;&nbsp;&nbsp; $\\frac{1}{2}$V<sub>t</sub><sup>2</sup> = GM($\\frac{1}{R}$ - $\\frac{1}{2(R+alt)}$ )  \n",
    "\n",
    "Obtain common demoninator in fractions    \n",
    "&nbsp;&nbsp;&nbsp;&nbsp; $\\frac{1}{2}$V<sub>t</sub><sup>2</sup> = GM($\\frac{2R + 2alt}{R(2R + 2alt)}$ - $\\frac{R}{R(2R + 2alt)}$ )  \n",
    "&nbsp;&nbsp;&nbsp;&nbsp;  \n",
    "&nbsp;&nbsp;&nbsp;&nbsp; $\\frac{1}{2}$V<sub>t</sub><sup>2</sup> = GM($\\frac{2R + 2alt -R}{R(2R + 2alt)}$ )   \n",
    "\n",
    "Smiplify::  \n",
    "&nbsp;&nbsp;&nbsp;&nbsp; $\\frac{1}{2}$V<sub>t</sub><sup>2</sup> = $\\frac{GM}{2R}$($\\frac{R + 2alt}{R + alt}$)  \n",
    "&nbsp;&nbsp;&nbsp;&nbsp;  \n",
    "&nbsp;&nbsp;&nbsp;&nbsp; V<sub>t</sub> = $\\sqrt{\\frac{GM}{R}(\\frac{R + 2alt}{R + alt})  }$  "
   ]
  },
  {
   "cell_type": "code",
   "execution_count": 145,
   "id": "af3e3b73-1fd4-402a-9b65-d6d462e6e152",
   "metadata": {},
   "outputs": [
    {
     "name": "stdout",
     "output_type": "stream",
     "text": [
      "2289326599.3043814 kenitic energy [N-m] or [J]\n",
      "643212440.3746341 potential energy [N-m] or [J]\n",
      "8375.94390835787 Total velocity [m/s]\n",
      "8.4 Total velocity [km/s]\n",
      "8.4 [km/s]\n",
      "13.4 [km/s]\n"
     ]
    }
   ],
   "source": [
    "### Total velocity to boost from surface to specified altitude\n",
    "\n",
    "m_sat = 83.6 ### [kg]\n",
    "alt = 896E+3 ### [m]\n",
    "\n",
    "Vo = (G * m_earth / (alt + r_earth)) ** .5\n",
    "KE = .5 * m_sat * (Vo ** 2)\n",
    "print(KE , 'kenitic energy [N-m] or [J]')\n",
    "\n",
    "PE = G * m_earth * m_sat * ((1/(r_earth) - (1/(r_earth + alt))))\n",
    "print(PE , 'potential energy [N-m] or [J]')\n",
    "\n",
    "Vt = (2 * (KE + PE) / m_sat) ** .5 \n",
    "print(Vt , 'Total velocity [m/s]')\n",
    "print(round(Vt / 1000 , 1) , 'Total velocity [km/s]')\n",
    "\n",
    "## Alternate method\n",
    "\n",
    "VV = ((G * m_earth / r_earth) * ((r_earth + 2*alt) / (r_earth + alt)) )**.5\n",
    "print(round(VV / 1000 , 1) , '[km/s]')\n"
   ]
  },
  {
   "cell_type": "code",
   "execution_count": 122,
   "id": "0f0e445d-2a4b-4a64-841c-2a5d1a07dbc2",
   "metadata": {},
   "outputs": [
    {
     "name": "stdout",
     "output_type": "stream",
     "text": [
      "5028.808279900386 [m/s] - escape velocity from surface of the mars\n",
      "5.0 [km/s] - escape velocity from surface of mars\n"
     ]
    }
   ],
   "source": [
    "### Escape Velocity - Surface of Mars\n",
    "\n",
    "V_esc_mars = (2 * G * m_mars /r_mars ) ** .5\n",
    "print(V_esc_mars , '[m/s] - escape velocity from surface of the mars')\n",
    "print(round(V_esc_mars /1000 , 1) , '[km/s] - escape velocity from surface of mars')"
   ]
  },
  {
   "cell_type": "code",
   "execution_count": 121,
   "id": "23375d0a-2448-4bb8-bb8a-e94115864a30",
   "metadata": {},
   "outputs": [
    {
     "name": "stdout",
     "output_type": "stream",
     "text": [
      "40230.46623920309 [m/s] - escape velocity from surface of the Planet X\n",
      "40.2 [km/s] - escape velocity from surface of Planet X\n"
     ]
    }
   ],
   "source": [
    "### Escape Velocity - Surface of Plant X\n",
    "\n",
    "V_esc_x = (2 * G * 16 * m_mars / (.25*r_mars)) ** .5\n",
    "print(V_esc_x , '[m/s] - escape velocity from surface of the Planet X')\n",
    "print(round(V_esc_x /1000 , 1) , '[km/s] - escape velocity from surface of Planet X')"
   ]
  },
  {
   "cell_type": "code",
   "execution_count": 132,
   "id": "2835c6ec-2bb8-42af-983f-9485353d1059",
   "metadata": {},
   "outputs": [
    {
     "name": "stdout",
     "output_type": "stream",
     "text": [
      "1217.9 velocity to boost from 15km to 92km alt [m/s]\n"
     ]
    }
   ],
   "source": [
    "### Velocity required to increase altitude \n",
    "\n",
    "p1 = 15E+3 + r_earth ### [m]\n",
    "p2 = 92E+3 + r_earth ### [m]\n",
    "\n",
    "v = (2 * G * m_earth * (1/p1 - 1/p2) ) ** .5\n",
    "print( round(v , 1) , 'velocity to boost from 15km to 92km alt [m/s]')\n",
    "\n"
   ]
  },
  {
   "cell_type": "markdown",
   "id": "b92c1ed5-9612-46d1-aff6-00555d1de83a",
   "metadata": {
    "tags": []
   },
   "source": [
    "## Ideal Rocket Equation::\n",
    "\n",
    "$\\Delta$V = V<sub>e</sub> ln { m<sub>0</sub> / m<sub>f</sub>}\n",
    "   \n",
    "where:  \n",
    "&nbsp;&nbsp;&nbsp;&nbsp;   $\\Delta$V  is delta-v – the maximum change of velocity of the rocket [m/s].  \n",
    "&nbsp;&nbsp;&nbsp;&nbsp;   m<sub>0</sub> is the initial total mass, including propellant, a.k.a. wet mass [kg].  \n",
    "&nbsp;&nbsp;&nbsp;&nbsp;   m<sub>f</sub> is the final total mass without propellant, a.k.a. dry mass [kg].   \n",
    "&nbsp;&nbsp;&nbsp;&nbsp;   V<sub>e</sub> is the effective exhaust velocity [m/s].  \n"
   ]
  },
  {
   "cell_type": "code",
   "execution_count": 133,
   "id": "0974a3aa-e176-441d-b8f3-677249f0ecbe",
   "metadata": {},
   "outputs": [
    {
     "name": "stdout",
     "output_type": "stream",
     "text": [
      "8106.284391495404 = total velocity [m/s]\n",
      "0.062273965110235294 alpha or payload fraction\n",
      "2489.001619306305 total mass [kg]\n"
     ]
    }
   ],
   "source": [
    "### Ideal rocket\n",
    "\n",
    "alt = 350E+3 ### [m]\n",
    "Vt = ( (G*m_earth / r_earth) * (r_earth + 2 * alt)/(r_earth + alt) ) ** .5\n",
    "print(Vt , '= total velocity [m/s]')\n",
    "\n",
    "b = 0.014\n",
    "Vj = 3150 ### [m/s]\n",
    "a = ( 1 / (math.exp(Vt/Vj))) - b\n",
    "print(a , 'alpha or payload fraction')\n",
    "\n",
    "Mu = 155 ### [kg]\n",
    "\n",
    "M_total = Mu / a\n",
    "print(M_total , 'total mass [kg]')"
   ]
  },
  {
   "cell_type": "code",
   "execution_count": null,
   "id": "ba966c61-a866-4eed-a3e6-03a551569f9d",
   "metadata": {},
   "outputs": [],
   "source": []
  }
 ],
 "metadata": {
  "kernelspec": {
   "display_name": "Python 3",
   "language": "python",
   "name": "python3"
  },
  "language_info": {
   "codemirror_mode": {
    "name": "ipython",
    "version": 3
   },
   "file_extension": ".py",
   "mimetype": "text/x-python",
   "name": "python",
   "nbconvert_exporter": "python",
   "pygments_lexer": "ipython3",
   "version": "3.8.2"
  }
 },
 "nbformat": 4,
 "nbformat_minor": 5
}

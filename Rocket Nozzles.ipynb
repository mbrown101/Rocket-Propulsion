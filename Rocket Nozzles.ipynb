{
 "cells": [
  {
   "cell_type": "markdown",
   "id": "cefba35c-5064-44c6-aac1-ad6320a2d22c",
   "metadata": {},
   "source": [
    "### Rocket Nozzles"
   ]
  },
  {
   "cell_type": "code",
   "execution_count": 3,
   "id": "1f626319-96e2-4284-9570-1b9981a301b1",
   "metadata": {},
   "outputs": [],
   "source": [
    "### Constants\n",
    "\n",
    "g = 9.81 ### Gravitational field at earth’s surface: 9.81 [m/s2]"
   ]
  },
  {
   "cell_type": "code",
   "execution_count": 8,
   "id": "25b317a0-2a55-4aa0-a974-66f6c9401ede",
   "metadata": {},
   "outputs": [],
   "source": [
    "### Packages\n",
    "import math"
   ]
  },
  {
   "cell_type": "markdown",
   "id": "6882d9a2-577b-4d00-837d-616cb1adb3a9",
   "metadata": {},
   "source": [
    "\n",
    "1)) A single-stage rocket with an initial mass of 50,000 kg takes off from the earth’s surface. The jet velocity at the exit of the rocket nozzle is 2900 m/s, and the propellant consumption rate is 450 kg/s. The initial acceleration of the rocket at the take-off, in 𝑚/𝑠2, correct to one decimal place "
   ]
  },
  {
   "cell_type": "markdown",
   "id": "4b1ca228-1cbf-495c-a17a-8042c6729295",
   "metadata": {},
   "source": [
    "$\\sum$ F = $\\frac{dp}{dt}$  \n",
    "\n",
    "where p is momentum = mv\n",
    "  \n",
    "$\\sum$ F = m$\\frac{dv}{dt}$ + v$\\frac{dm}{dt}$  \n",
    "  \n",
    "For constant velocity  \n",
    "$\\frac{dv}{dt}$ = 0\n",
    "\n",
    "Thus:\n",
    "Force applied by the nozzle::  \n",
    "$\\sum$ F<sub>stage</sub> = v$\\frac{dm}{dt}$ \n",
    "\n",
    "With respect to the rocket:: \n",
    "\n",
    "$\\sum$ F = m<sub/>initial</sub> a \n",
    "\n",
    "F<sub>stage</sub> - F<sub>gravity</sub> = m<sub/>initial</sub> a\n",
    "\n",
    "a = $\\frac{Fstage - mg}{m}$  \n",
    "\n",
    "Where launch direction is opposite to gravity \n",
    "\n"
   ]
  },
  {
   "cell_type": "code",
   "execution_count": 4,
   "id": "1301a203-811c-4473-8489-6827fc89f313",
   "metadata": {},
   "outputs": [
    {
     "name": "stdout",
     "output_type": "stream",
     "text": [
      "1305000 [N] force of stage\n"
     ]
    }
   ],
   "source": [
    "Fstage = 2900 * 450 ## [m/s] * [kg/s] = [N]\n",
    "print(Fstage , '[N] force of stage')"
   ]
  },
  {
   "cell_type": "code",
   "execution_count": 6,
   "id": "c29b78f1-e4b4-46b1-b7cd-94acaf399cf3",
   "metadata": {},
   "outputs": [
    {
     "name": "stdout",
     "output_type": "stream",
     "text": [
      "16.3 [m/s^2] acceleration\n"
     ]
    }
   ],
   "source": [
    "m = 50000 ## [kg]\n",
    "a = (Fstage - m*g)/m\n",
    "print(round(a , 1) , '[m/s^2] acceleration') "
   ]
  },
  {
   "cell_type": "markdown",
   "id": "8929e67e-ffa3-4605-ae9d-7507b120aade",
   "metadata": {},
   "source": [
    "2)) A spacecraft ejects propellant mass at a rate of 45 kg/s with an exhaust velocity of 2.9 km/s. The initial mass of the spacecraft is 6200 kg. If the entire propellant gets consumed in 90 seconds, determine the ideal velocity increment of the spacecraft in km/s.  "
   ]
  },
  {
   "cell_type": "markdown",
   "id": "335a5f30-f8a5-4d38-89d0-28d36c9df8b5",
   "metadata": {},
   "source": [
    "$\\Delta$V = V<sub>j</sub> ln $\\frac{mi}{mf}$"
   ]
  },
  {
   "cell_type": "code",
   "execution_count": 15,
   "id": "dbfe2ddc-3370-4f7f-b5a9-24f3f17bd1ee",
   "metadata": {},
   "outputs": [
    {
     "name": "stdout",
     "output_type": "stream",
     "text": [
      "2150\n",
      "2.883720930232558\n",
      "3.0713362047432757 [km/s] = velocity increment\n"
     ]
    }
   ],
   "source": [
    "\n",
    "mp = 45 * 90 ### [kg/s] * [s]\n",
    "mi = 6200\n",
    "#print(mi-mp)\n",
    "#print(mi / (mi-mp))\n",
    "dv = 2.9 * math.log(mi / (mi-mp))\n",
    "print ( dv , '[km/s] = velocity increment')"
   ]
  },
  {
   "cell_type": "markdown",
   "id": "d411176f-d9e2-4bd8-902f-1d0a675406fa",
   "metadata": {},
   "source": [
    "3)) The jet velocities and propellant mass fractions of a single-stage sounding rocket having a jet velocity of 2 km/s with a propellant mass fraction of 0.82 would give a velocity increment in km/s correct to one decimal place"
   ]
  },
  {
   "cell_type": "markdown",
   "id": "add2f726-b116-4f1d-a608-c2fd7111ce86",
   "metadata": {},
   "source": [
    "m<sub>p</sub> = m<sub>i</sub> * $\\gamma$  \n",
    "m<sub>f</sub> = m<sub>i</sub> - m<sub>p</sub>  =  m<sub>i</sub> -m<sub>i</sub> * $\\gamma$  \n",
    "$\\frac{Mi}{Mf}$ = $\\frac{Mi}{Mi - Mi $\\gamma$ }$ = $\\frac{1}{1 - $\\gamma$ }$\n"
   ]
  },
  {
   "cell_type": "code",
   "execution_count": 13,
   "id": "7123e0ad-a7a9-4323-a6ec-eb66bf08ed24",
   "metadata": {},
   "outputs": [
    {
     "name": "stdout",
     "output_type": "stream",
     "text": [
      "3.429596856183853 [km/s] velocity increment\n"
     ]
    }
   ],
   "source": [
    "prop_frac = .82\n",
    "dv = 2 * math.log(1 / (1-prop_frac))\n",
    "print(dv , '[km/s] velocity increment') "
   ]
  },
  {
   "cell_type": "markdown",
   "id": "17b10efd-1e26-4048-8030-0aaab1604ac5",
   "metadata": {},
   "source": [
    "Firework rockets were propelled in the air with teh following specifications.\n",
    "\n",
    "Propellant: black powder.\n",
    "Propellant density: 1700 kg/m3.\n",
    "Final mass of the rocket: 34 grams.\n",
    "Jet exhaust velocity: 95 m/s.\n",
    "Cylindrical Propellant chamber dimensions: 7.0 mm diameter and 50 mm length.\n",
    " \n",
    "4)) The velocity increment provided by the rocket in m/s, correct to one decimal place::\n"
   ]
  },
  {
   "cell_type": "code",
   "execution_count": 19,
   "id": "ca7a01a9-fa41-410b-9760-5b94f0b36fa1",
   "metadata": {},
   "outputs": [
    {
     "name": "stdout",
     "output_type": "stream",
     "text": [
      "0.0032711805875000007 [kg] mass propellant\n",
      "8.726687174039913 [km/s] = velocity increment\n"
     ]
    }
   ],
   "source": [
    "## Propellant mass\n",
    "\n",
    "density = 1700 ## [kg/m^3]\n",
    "V = 0.050 * 3.14159 * (0.007/2)**2 \n",
    "Mp = V*density\n",
    "print(Mp , '[kg] mass propellant')\n",
    "Mf = 0.034 ##[kg]\n",
    "Mi = Mf + Mp\n",
    "dv = 95 * math.log(Mi / (Mf))\n",
    "print ( dv , '[km/s] = velocity increment')"
   ]
  },
  {
   "cell_type": "markdown",
   "id": "85aa04df-fa4b-40ae-a6ad-f942d45acc1e",
   "metadata": {},
   "source": [
    "5)) The propellant mass is small compared to the mass of the rocket. Assuming it to be small and linearizing the expression for velocity increment, the velocity increment in m/s expressed to one decimal place works out to be "
   ]
  },
  {
   "cell_type": "markdown",
   "id": "270527c6-b312-43b6-a8bb-9dd669384239",
   "metadata": {},
   "source": [
    "$\\Delta$V = V<sub>j</sub> ln $\\frac{mi}{mf}$  \n",
    "\n",
    " Regarding the mass ratio ::  \n",
    "   $\\frac{mi}{mf}$  = [ $\\alpha$ + $\\beta$ + $\\gamma$ ] / [ $\\alpha$ + $\\beta$ ]   \n",
    "   \n",
    "   = [ $\\alpha$ + $\\beta$ ] / [ $\\alpha$ + $\\beta$ ] + [ $\\gamma$ ] / [ $\\alpha$ + $\\beta$ ]   \n",
    "   \n",
    "   = 1 + [ $\\gamma$ ] / [ $\\alpha$ + $\\beta$ ]  \n",
    " \n",
    " Series expansion:\n",
    "   ln (1 + x) = x -(1/2)x<sup>2</sup> + (1/3)x<sup>3</sup> ....\n",
    " \n",
    "   ln (1 + x) = x for small values of x\n",
    " \n",
    " Thus::\n",
    " \n",
    "   $\\Delta$V = V<sub>j</sub> [ $\\gamma$ ] / [ $\\alpha$ + $\\beta$ ]  \n",
    " \n",
    " "
   ]
  },
  {
   "cell_type": "code",
   "execution_count": 40,
   "id": "5171629b-5d61-458a-9e8c-4670b113cefe",
   "metadata": {},
   "outputs": [
    {
     "name": "stdout",
     "output_type": "stream",
     "text": [
      "0.0877670236342631 Propellant mass fration\n",
      "0.9122329763657369 Payload + Structure mass fration\n",
      "0.09621119375000002 x\n",
      "\n",
      "********************************************************************\n",
      "Single term linear expansion for ln(1+x) =  9.140063406250002 [m/s]\n",
      "********************************************************************\n",
      "\n",
      "delta v =  9.1400634 [m/s] sum_x =  0.09621119375000002 term =  0.09621119375000002 i =  1\n",
      "delta v =  8.7003752 [m/s] sum_x =  0.09158289684859999 term =  -0.004628296901400022 i =  2\n",
      "delta v =  8.7285772 [m/s] sum_x =  0.09187975949520874 term =  0.00029686264660874816 i =  3\n",
      "delta v =  8.7265421 [m/s] sum_x =  0.09185833836300124 term =  -2.142113220750904e-05 i =  4\n",
      "delta v =  8.7266988 [m/s] sum_x =  0.09185998712516216 term =  1.6487621609288146e-06 i =  5\n",
      "delta v =  8.7266862 [m/s] sum_x =  0.09185985493401573 term =  -1.3219114642732574e-07 i =  6\n",
      "delta v =  8.7266873 [m/s] sum_x =  0.0918598658353883 term =  1.0901372572246334e-08 i =  7\n",
      "delta v =  8.7266872 [m/s] sum_x =  0.09185986491765849 term =  -9.177298101031623e-10 i =  8\n",
      "delta v =  8.7266872 [m/s] sum_x =  0.09185986499614372 term =  7.848522717332095e-11 i =  9\n",
      "delta v =  8.7266872 [m/s] sum_x =  0.09185986498934769 term =  -6.796041658276635e-12 i =  10\n",
      "8.72668717398803 delta_v [m/s]\n"
     ]
    }
   ],
   "source": [
    "MassFrac_P = Mp / Mi\n",
    "print(MassFrac_P , 'Propellant mass fration')\n",
    "\n",
    "MassFrac_US = 1 - MassFrac_P\n",
    "print(MassFrac_US , 'Payload + Structure mass fration')\n",
    "\n",
    "x = MassFrac_P / MassFrac_US\n",
    "print(x , 'x')\n",
    "\n",
    "### single term expansion\n",
    "\n",
    "vv = 95 * x\n",
    "print()\n",
    "print('********************************************************************')\n",
    "print('Single term linear expansion for ln(1+x) = ' , vv , '[m/s]') \n",
    "print('********************************************************************')\n",
    "print()\n",
    "\n",
    "### loop series expansion\n",
    "\n",
    "term = 0\n",
    "sum_x = 0\n",
    "for i in range(1 , 11):\n",
    "    term = ((-1)**(i+1)) * (1/i) * x ** i\n",
    "    sum_x = sum_x + term\n",
    "    print('delta v = ' , round(sum_x * 95 , 7) , '[m/s]' , 'sum_x = ' , sum_x  , 'term = ' , term , 'i = ' , i)\n",
    "    \n",
    "delta_v = 95 * sum_x\n",
    "print(delta_v , 'delta_v [m/s]')"
   ]
  },
  {
   "cell_type": "markdown",
   "id": "a832d96e-7d26-4291-9721-35125164ed1f",
   "metadata": {},
   "source": [
    "6)) A geostationary satellite of dry mass (structural + payload mass) of 3200 kg is launched into space using a rocket. The satellite has a lifetime of 7 years. For station keeping, the satellite has a total velocity increment of 2000 m/s. If the jet velocity of the satellite is 2800 m/s, find the mass of the propellant required."
   ]
  },
  {
   "cell_type": "code",
   "execution_count": 42,
   "id": "c27b91dc-867b-43b1-b2f7-7a7bbea155d5",
   "metadata": {},
   "outputs": [
    {
     "name": "stdout",
     "output_type": "stream",
     "text": [
      "3336.7 [kg] Mass of propellant\n"
     ]
    }
   ],
   "source": [
    "Md = 3200 ## [kg] dry mass\n",
    "deltaV = 2000 ## [m/s] delta V for maneuvering\n",
    "Vj = 2800 ## [m/s] Exhaust velocity\n",
    "\n",
    "Mp = Md * math.exp(deltaV/Vj) - Md\n",
    "print(round(Mp , 1) , '[kg] Mass of propellant')"
   ]
  },
  {
   "cell_type": "markdown",
   "id": "ec5a5579-e73f-4139-987b-47f96d39009b",
   "metadata": {},
   "source": [
    "7)) A satellite of mass 450 kg is launched to an orbit using a rocket. The structural mass of the rocket assembly is 600 kg, and the propellant mass fraction of the rocket assembly is 0.92. If the thrust produced by the rocket firing for 22 sec is 1200 KN, find the impulse provided by the rocket in in uniits of KN-s."
   ]
  },
  {
   "cell_type": "markdown",
   "id": "f6202593-783a-44a1-b4e8-2f3481f9ea0c",
   "metadata": {},
   "source": [
    "I = $\\int_0^t \\mathrm{F }\\mathrm{dt}$  \n",
    "For constant force with respect to time,  \n",
    "\n",
    "I = F $\\int_0^t \\mathrm{ }\\mathrm{dt}$  "
   ]
  },
  {
   "cell_type": "code",
   "execution_count": 44,
   "id": "0dbc7a23-ae36-4187-8f2c-fc2938edd1b4",
   "metadata": {},
   "outputs": [
    {
     "name": "stdout",
     "output_type": "stream",
     "text": [
      "26400 [KN-s] impulse\n"
     ]
    }
   ],
   "source": [
    "i = 1200 * 22 ## [KN] * [s]\n",
    "print(i , '[KN-s] impulse')"
   ]
  },
  {
   "cell_type": "markdown",
   "id": "640c5be5-fde0-4398-9c0f-1514e7a42013",
   "metadata": {},
   "source": [
    "8)) A satellite of mass 450 kg is launched to an orbit using a rocket. The structural mass of the rocket assembly is 600 kg, and the propellant mass fraction of the rocket assembly is 0.92. If the thrust produced by the rocket firing for 22 sec is 1200 KN, find the specific impulse of the rocket in Ns/kg."
   ]
  },
  {
   "cell_type": "markdown",
   "id": "7fdc6f3c-dec3-4701-8a0e-c9114bbb4c02",
   "metadata": {},
   "source": [
    "Specific Impulse I<sub>sp</sub> = I / (M<sub>p</sub> * g)  \n",
    "units of [s]  \n",
    "\n",
    "reference:: https://www.grc.nasa.gov/www/k-12/airplane/specimp.html"
   ]
  },
  {
   "cell_type": "code",
   "execution_count": 50,
   "id": "6b862c95-ebf0-446b-b5a5-0ea5eda29345",
   "metadata": {},
   "outputs": [
    {
     "name": "stdout",
     "output_type": "stream",
     "text": [
      "2186.3 [Ns/kg] Specific impulse\n"
     ]
    }
   ],
   "source": [
    "Mt = (450 + 600) / (1 - 0.92)\n",
    "Mp = Mt * 0.92\n",
    "Isp = 26400000 / Mp\n",
    "print(round(Isp , 1) , '[Ns/kg] Specific impulse')"
   ]
  },
  {
   "cell_type": "markdown",
   "id": "988fa02b-ba44-43e8-ae56-40632da2f40f",
   "metadata": {},
   "source": [
    "9)) A satellite of mass 450 kg is launched to an orbit using a rocket. The structural mass of the rocket assembly is 600 kg, and the propellant mass fraction of the rocket assembly is 0.92. If the thrust produced by the rocket firing for 22 sec is 1200 KN, find the total velocity increment of the rocket, in km/s, correct to one decimal place"
   ]
  },
  {
   "cell_type": "code",
   "execution_count": 57,
   "id": "57027b77-798a-4e46-9168-3a375b986775",
   "metadata": {},
   "outputs": [
    {
     "name": "stdout",
     "output_type": "stream",
     "text": [
      "2186.3354037267068 [m/s] nozzel exit velocity\n",
      "12075.000000000007 [kg] propellant mass\n",
      "13125.000000000007 [kg] total mass\n",
      "450 [kg] payload mass\n",
      "600 [kg] structure mass\n",
      "5522.0899552577985 [m/s] velocity increment\n",
      "5.52 [km/s] velocity increment\n"
     ]
    }
   ],
   "source": [
    "Mt = (450 + 600) / (1 - 0.92) ## [kg] total mass\n",
    "Mp = Mt * 0.92 ## [kg] propellant mass\n",
    "Vj = 26400000 / Mp\n",
    "\n",
    "Mu = 450 ## [kg] payload mass\n",
    "Ms = 600 ## [kg] structure mass\n",
    "print(Vj , '[m/s] nozzle exit velocity')\n",
    "print(Mp , '[kg] propellant mass')\n",
    "print(Mt , '[kg] total mass')\n",
    "print(Mu , '[kg] payload mass')\n",
    "print(Ms , '[kg] structure mass')\n",
    "\n",
    "delta_V = Vj*math.log(Mt / (Mu + Ms))\n",
    "print(delta_V , '[m/s] velocity increment')\n",
    "print(round(delta_V / 1000 , 2) , '[km/s] velocity increment')\n",
    "\n"
   ]
  },
  {
   "cell_type": "markdown",
   "id": "46f2e26f-f655-47b8-90a8-54397480433f",
   "metadata": {},
   "source": [
    "10)) The following data is recorded for a rocket a few seconds after it leaves the launch pad. Propellant consumption rate is 2500 kg/s; Thrust is 8700 KN; The velocity of the rocket is 385 m/s. The propulsive efficiency (in %), correct to one decimal place is:"
   ]
  },
  {
   "cell_type": "code",
   "execution_count": 62,
   "id": "2996dd94-4384-4289-ad4b-d4950f5bcb1a",
   "metadata": {},
   "outputs": [
    {
     "name": "stdout",
     "output_type": "stream",
     "text": [
      "3480.0 [m/s] Vj, nozzle exhaust velocity\n",
      "21.9 efficiency [%]\n"
     ]
    }
   ],
   "source": [
    "## F  =  mass rate * Vj\n",
    "\n",
    "mass_rate = 2500 ## [kg/s] mass flow rate\n",
    "F = 8700000 ## [N] Thrust\n",
    "Vr = 385 ## [m/s] rocket velocity\n",
    "Vj = F/mass_rate\n",
    "print(Vj , '[m/s] Vj, nozzle exhaust velocity')\n",
    "\n",
    "vel_ratio = Vr / Vj\n",
    "\n",
    "Np = 2 * vel_ratio / ( 1 + vel_ratio ** 2)\n",
    "print(round(Np *100 , 1) , 'efficiency [%]')"
   ]
  },
  {
   "cell_type": "markdown",
   "id": "87d6e662-88d2-4bac-8b4c-704ddc4ce7fa",
   "metadata": {},
   "source": [
    "A water rocket is a type of model rocket that uses water as its reaction mass. The specifications of a water rocket are as follows:\n",
    "\n",
    "Air pressure inside the water chamber: 0.45 MPa\n",
    "Atmospheric pressure: 0.1 MPa\n",
    "Mass of the structure: 0.6 kg\n",
    "Mass of water: 0.4 kg\n",
    "Density of water: 1000 kg/m3\n",
    "Initial acceleration of the rocket: 5 m/s2\n",
    "Acceleration due to gravity, g = 9.81 m/s2\n",
    "\n",
    "11)) Find initial jet velocity (neglect the pressure head due to the height of the water column inside the chamber) ejecting from the nozzle in m/s, correct to one decimal place.\n"
   ]
  },
  {
   "cell_type": "markdown",
   "id": "0ef0b638-e13d-4779-9fc0-76c3369a6bb6",
   "metadata": {},
   "source": [
    "Bernoulli's Equation::\n",
    "\n",
    "$\\frac{v^2}{2}$ + mgh + $\\frac{p}{\\rho}$ = constant\n",
    "\n",
    "where:: \n",
    "\n",
    "v is the fluid flow speed at a point on a streamline   \n",
    "g is the acceleration due to gravity   \n",
    "z is the elevation of the point above a reference plane, with the positive z-direction pointing upward – so in the direction opposite to the gravitational acceleration  \n",
    "p is the pressure at the chosen point\n",
    "ρ is the density of the fluid at all points in the fluid  \n",
    "\n",
    "Comparing two combustion chamber to the nozzel exit:\n",
    "\n",
    "$\\frac{v^2}{2}$ + mgh + $\\frac{p}{\\rho}$ ]<sub>chamber</sub> = $\\frac{v^2}{2}$ + mgh + $\\frac{p}{\\rho}$ ]<sub>exit</sub>\n",
    "\n",
    "Assumptions:   \n",
    "- Changes in elevation are small, mgh = 0  \n",
    "- In chamber, v = 0  \n",
    "\n",
    " $\\frac{p}{\\rho}$ ]<sub>chamber</sub> = $\\frac{v^2}{2}$ + $\\frac{p}{\\rho}$ ]<sub>exit</sub>\n",
    "\n"
   ]
  },
  {
   "cell_type": "code",
   "execution_count": 67,
   "id": "1b7572c5-d480-412a-b874-45cb90ce2e89",
   "metadata": {},
   "outputs": [
    {
     "name": "stdout",
     "output_type": "stream",
     "text": [
      "26.45751 [m/s] exhaust velocity\n"
     ]
    }
   ],
   "source": [
    "Pc = .45E+6 ## [Pa] chamber pressure\n",
    "Patm = .1E+6 ## [Pa] exit pressure\n",
    "rho = 1000   ## [kg / m^3] water density\n",
    "\n",
    "Ve = (2*(Pc - Patm) / rho) ** .5 \n",
    "print(round(Ve , 5) , '[m/s] exhaust velocity')"
   ]
  },
  {
   "cell_type": "markdown",
   "id": "db73026c-5335-4f78-90f4-cba93b964375",
   "metadata": {},
   "source": [
    "12)) The diameter of the exhaust jet in mm, correct to one decimal place"
   ]
  },
  {
   "cell_type": "code",
   "execution_count": 72,
   "id": "c3afb0cd-8421-4750-b5ac-85c8ec0bf8a3",
   "metadata": {},
   "outputs": [
    {
     "name": "stdout",
     "output_type": "stream",
     "text": [
      "14.81 [N] thrust of rocket\n",
      "0.5597654503390531 [kg/s] mass rate\n",
      "5.190196530701017 [mm] nozzle diameter\n"
     ]
    }
   ],
   "source": [
    "rho = 1000   ## [kg / m^3] water density\n",
    "Mt = 1 ## [kg]\n",
    "Mp = .4 ## [kg]\n",
    "g = 9.81 ## [m/s^2]\n",
    "a = 5 ## [m/s^2] initial rocket acceleration\n",
    "Ft = Mt*a + Mt*g\n",
    "print(Ft , '[N] thrust of rocket')\n",
    "Ve = 26.45751 ## [m/s] exhaust velocity\n",
    "mass_rate = Ft / Ve ## [kg / s] mass rate\n",
    "print(mass_rate , '[kg/s] mass rate')\n",
    "\n",
    "Vol_rate = mass_rate / rho ## [m^3 / s] volumetric flow rate\n",
    "noz_area = Vol_rate / Ve   ## [m^2] nozzle area\n",
    "noz_rad = (noz_area / 3.14159) ** .5\n",
    "noz_dia = noz_rad * 2 ## [m]\n",
    "print(noz_dia * 1000 , '[mm] nozzle diameter')\n"
   ]
  },
  {
   "cell_type": "code",
   "execution_count": null,
   "id": "afd94df0-711a-4ec6-ab39-3219d40012a1",
   "metadata": {},
   "outputs": [],
   "source": []
  },
  {
   "cell_type": "markdown",
   "id": "81d9c13a-10d3-4c88-ab64-817317ff55f7",
   "metadata": {},
   "source": [
    "13)) The specific impulse of the rocket, correct to one decimal place. "
   ]
  },
  {
   "cell_type": "code",
   "execution_count": 94,
   "id": "242446b0-a308-4152-b22b-317dc8016a90",
   "metadata": {},
   "outputs": [
    {
     "name": "stdout",
     "output_type": "stream",
     "text": [
      "2.697 [N-s / kg] Specific Impulse\n"
     ]
    }
   ],
   "source": [
    "Mp = .4 ## [kg]\n",
    "Ve = 26.45751 ## [m/s] exhaust velocity\n",
    "Isp = Mp * Ve / (Mp * g)\n",
    "print( round(Isp , 3) , '[s] Specific Impulse')"
   ]
  },
  {
   "cell_type": "markdown",
   "id": "6de0254a-0417-4d27-bc32-d705532523f6",
   "metadata": {},
   "source": [
    "14)) Payload mass in kg is"
   ]
  },
  {
   "cell_type": "code",
   "execution_count": 77,
   "id": "0404091d-44e6-4265-b4b2-e3dfde54a81a",
   "metadata": {},
   "outputs": [
    {
     "name": "stdout",
     "output_type": "stream",
     "text": [
      "145 [kg] payload\n"
     ]
    }
   ],
   "source": [
    "Mt = 5850   ## [kg] \n",
    "Mp1 = 4500  ## [kg] \n",
    "Mp2 = 600   ## [kg] \n",
    "Ms1 = 575   ## [kg] \n",
    "Ms2 = 30    ## [kg] \n",
    "\n",
    "Mu = Mt - Mp1 - Mp2 - Ms1 - Ms2\n",
    "print( Mu , '[kg] payload')\n"
   ]
  },
  {
   "cell_type": "markdown",
   "id": "7e5e9d33-a421-4b9e-8cd9-133fc807f9f7",
   "metadata": {},
   "source": [
    "15)) Payload mass fraction of the rocket, correct to three decimal places is "
   ]
  },
  {
   "cell_type": "code",
   "execution_count": 84,
   "id": "42916356-9b19-4539-aa35-a6200ff9e66c",
   "metadata": {},
   "outputs": [
    {
     "name": "stdout",
     "output_type": "stream",
     "text": [
      "0.025 mass fraction payload\n"
     ]
    }
   ],
   "source": [
    "MFu = 145 / Mt\n",
    "print(round(MFu , 3) , 'mass fraction payload')"
   ]
  },
  {
   "cell_type": "markdown",
   "id": "454496b5-562e-439c-853a-bb1da9522fe3",
   "metadata": {},
   "source": [
    "16)) Ideal velocity increment for stage 1 in km/s, correct to two one decimal place"
   ]
  },
  {
   "cell_type": "code",
   "execution_count": 85,
   "id": "cd78fb1b-3e5e-4caf-9698-f722f8c9016d",
   "metadata": {},
   "outputs": [
    {
     "name": "stdout",
     "output_type": "stream",
     "text": [
      "3.67 [km / s] first stage velocity increment\n"
     ]
    }
   ],
   "source": [
    "Ve1 = 2.5 ## [km / s] first stage exit velocity\n",
    "delta_v = Ve1 * math.log(Mt / (Mt - Mp1))\n",
    "print( round(delta_v , 2) , '[km / s] first stage velocity increment')"
   ]
  },
  {
   "cell_type": "markdown",
   "id": "0f2746a3-75c7-4774-a84e-0a662a63ed06",
   "metadata": {},
   "source": [
    "17)) Operational duration of stage 1 in sec, correct to one decimal place "
   ]
  },
  {
   "cell_type": "code",
   "execution_count": 86,
   "id": "88c9445b-6303-4347-be73-e04059ae881e",
   "metadata": {},
   "outputs": [
    {
     "name": "stdout",
     "output_type": "stream",
     "text": [
      "57.7 [s] first stage burn time\n"
     ]
    }
   ],
   "source": [
    "Mass_rate1 = 78 ## [kg/s] first stage burn rate = mass rate\n",
    "t = Mp1 / Mass_rate1 \n",
    "print(round(t , 1), '[s] first stage burn time')"
   ]
  },
  {
   "cell_type": "markdown",
   "id": "c3f165ae-6301-4268-a1e7-999fa98ddb73",
   "metadata": {},
   "source": [
    "18)) Ideal velocity increment for stage 2 in km/s, correct to one decimal place"
   ]
  },
  {
   "cell_type": "code",
   "execution_count": 88,
   "id": "163efa1e-b6e6-442b-9098-ba04ed18ab03",
   "metadata": {},
   "outputs": [
    {
     "name": "stdout",
     "output_type": "stream",
     "text": [
      "4.76 [km / s] second stage velocity increment\n"
     ]
    }
   ],
   "source": [
    "Ve2 = 3.2 ## [km / s] second stage exit velocity\n",
    "Mu = 145 ## [kg] payload\n",
    "delta_v2 = Ve2 * math.log((Mp2 + Ms2 + Mu) / (Ms2 + Mu))\n",
    "print( round(delta_v2 , 2) , '[km / s] second stage velocity increment')"
   ]
  },
  {
   "cell_type": "markdown",
   "id": "b70f8398-3b36-4a83-ba49-9bad59e94416",
   "metadata": {},
   "source": [
    "19)) Thrust provided by stage 1 in kN, expressed to the nearest integer"
   ]
  },
  {
   "cell_type": "code",
   "execution_count": 89,
   "id": "84c6458f-e7d5-4681-87e1-fcead4d974d5",
   "metadata": {},
   "outputs": [
    {
     "name": "stdout",
     "output_type": "stream",
     "text": [
      "195.0 [N] thrust stage 1\n"
     ]
    }
   ],
   "source": [
    "Mass_rate1 = 78 ## [kg/s] first stage burn rate = mass rate\n",
    "T1 = Mass_rate1 * Ve1 ## [km / s]\n",
    "print(T1 , '[N] thrust stage 1')"
   ]
  },
  {
   "cell_type": "markdown",
   "id": "81ea8198-7dfe-4c63-a26f-98424a5e6503",
   "metadata": {},
   "source": [
    "20)) Thrust provided by stage 2 in kN, correct to one decimal place"
   ]
  },
  {
   "cell_type": "code",
   "execution_count": 91,
   "id": "ea3690bb-94ab-4f55-95bd-4fb6a44cb0eb",
   "metadata": {},
   "outputs": [
    {
     "name": "stdout",
     "output_type": "stream",
     "text": [
      "57.6 [N] thrust stage 2\n"
     ]
    }
   ],
   "source": [
    "Mass_rate2 = 18 ## [kg/s] second stage burn rate = mass rate\n",
    "T2 = Mass_rate2 * Ve2  ## [km / s]\n",
    "print(T2 , '[N] thrust stage 2')"
   ]
  },
  {
   "cell_type": "code",
   "execution_count": null,
   "id": "28f5cb41-2069-45aa-9064-52b562bf475a",
   "metadata": {},
   "outputs": [],
   "source": []
  }
 ],
 "metadata": {
  "kernelspec": {
   "display_name": "Python 3",
   "language": "python",
   "name": "python3"
  },
  "language_info": {
   "codemirror_mode": {
    "name": "ipython",
    "version": 3
   },
   "file_extension": ".py",
   "mimetype": "text/x-python",
   "name": "python",
   "nbconvert_exporter": "python",
   "pygments_lexer": "ipython3",
   "version": "3.8.2"
  }
 },
 "nbformat": 4,
 "nbformat_minor": 5
}

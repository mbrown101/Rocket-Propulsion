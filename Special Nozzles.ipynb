{
 "cells": [
  {
   "cell_type": "markdown",
   "id": "ed4db383-7b14-41e7-945d-79a56fab46e1",
   "metadata": {},
   "source": [
    "### Imports\n",
    "\n",
    "import math"
   ]
  },
  {
   "cell_type": "code",
   "execution_count": 156,
   "id": "34779360-e4e7-4fa8-afc5-bc5abc9cd8aa",
   "metadata": {},
   "outputs": [],
   "source": [
    "### Functions ###\n",
    "\n",
    "## Area Ratio is a fuction of:\n",
    "\n",
    "# Pc = chamber pressure [Pa]\n",
    "# Px = nozzle pressure downstream of throat [Pa]\n",
    "# Pa = atmospheric pressure [Pa]\n",
    "# k = specific heat ratio [unitless] [Cp / Cv]\n",
    "# ar = area ratio = At / Ax where Ax is the area located x down stream of throat\n",
    "# ee = area ratio [Ax / At]\n",
    "\n",
    "def area_ratio(Pc, Px, k):\n",
    "  pr = Px/Pc\n",
    "  ar = (pr**(1/k)) * ((k+1)/2)**(1/(k-1)) * ( ((k+1)/(k-1))*( (1-pr**((k-1)/k)))) ** .5\n",
    "  ee = 1/ar\n",
    "  # print('area ratio, \\u03B5, [Ax / At] = ' , ee)\n",
    "  return ee\n",
    "\n",
    "\n",
    "## Throat to exit area ratio based on Mach number\n",
    "# Me = exit mach number\n",
    "# Mt = throat mach number \n",
    "# k = specific heat ratio\n",
    "\n",
    "def area_ratio_mach(k , Mt , Me):\n",
    "    mach_ratio = Mt / Me\n",
    "    x = lambda k , m : 1 + ((k-1)/2) * (m ** 2)\n",
    "    a_ratio = mach_ratio * ( (x(k , Me)/(x(k , Mt)) )**( (k+1 ) / (k-1)) ) ** .5\n",
    "    return a_ratio  \n",
    "                            \n",
    "### Ideal thrust coefficient     \n",
    "def thrust_coefficient(Pc, Px, Pa, k):\n",
    "  dp =   area_ratio(Pc , Px , k)*(Px-Pa)/Pc\n",
    "  print('dp' , dp)\n",
    "  s1 = (2/(k-1)) * (k**2)\n",
    "  s2 = ( 2 / (k+1) ) ** ((k+1)/(k-1))\n",
    "  s3 = 1 - (Px / Pc) ** ((k-1)/k)   \n",
    "  rxn = ( s1*s2*s3 ) **.5\n",
    "  Cf = rxn + dp\n",
    "  print('thrust coefficient, Cf = ' , Cf)\n",
    "  return Cf    \n",
    "    \n",
    "### Exit velocity calculation for isentropic flow [m/s]\n",
    "\n",
    "# Pc = chamber pressure [Pa]\n",
    "# Px = nozzle exit pressure downstream of throat [Pa]\n",
    "# R = specific gas constant [J / kg-k]\n",
    "# Tc = combustion chamber temp [k]\n",
    "# k = specific heat ratio [unitless] [Cp / Cv]\n",
    "\n",
    "def exit_velocity(Pc, Px, Tc, R, k):\n",
    "    pr = Px / Pc\n",
    "    s1 = 2*k / (k-1)\n",
    "    #print('s1 = ' , s1)\n",
    "    s2 = R*Tc\n",
    "    #print('s2 = ' , s2)\n",
    "    s3 = 1 - pr**((k-1)/k)\n",
    "    #print('s3 = ' , s3)\n",
    "    v = ( s1*s2*s3)**.5\n",
    "    return v\n",
    "\n",
    "### C* Characteristic Velocity\n",
    "# Tc = combustion chamber temp [k]\n",
    "# k = specific heat ratio [unitless] [Cp / Cv]\n",
    "# R = specific gas constant [J / kg-k]\n",
    "\n",
    "\n",
    "def characteristic_velocity(Tc, k, R):\n",
    "    gamma = (k**.5) * ((2 / (k+1))**((k+1) / (2*(k-1))))\n",
    "    print('gamma = ' , round(gamma , 4))\n",
    "    c_star = ((R*Tc)**.5) / gamma\n",
    "    return c_star\n"
   ]
  },
  {
   "cell_type": "markdown",
   "id": "76d19832-0013-4d9f-ba53-64a07463172e",
   "metadata": {},
   "source": [
    "A rocket is fired at the rocket engine test facility. The hot gases are generated in the chamber are at a temperature of 2250K and a pressure of 16.5 Mpa. The molecular mass and the specific heat ratio of the exhaust gases is 22 kg/Kmol, and 1.32. The gases are expanded in a convergent-divergent nozzle to the ambient pressure of 0.1 MPa. The throat area of the nozzle is 0.12 m2 and the value of universal gas constant R0 is 8.314 J/mole-K. "
   ]
  },
  {
   "cell_type": "code",
   "execution_count": 159,
   "id": "ed3feb42-1bdc-4926-8d00-57b3ad50a0e4",
   "metadata": {},
   "outputs": [
    {
     "name": "stdout",
     "output_type": "stream",
     "text": [
      "exit velocity [m/s] =  2231.7\n"
     ]
    }
   ],
   "source": [
    "## 2)) jet velocity in m/s, correct to one decimal place is\n",
    "\n",
    "Tc = 2250 # [ k]\n",
    "Pc = 16.5E+6 #[Pa]\n",
    "Pe = 0.1E+6 # [Pa]\n",
    "Ro = 8.314 # [J/mole-K]\n",
    "mw = 22  # [ kg / kmol]\n",
    "MW = mw * .001 #[kg / kmol] * [mol / kmol] \n",
    "R = Ro / MW # [J / kg-K]\n",
    "k = 1.32\n",
    "\n",
    "print('exit velocity [m/s] = ' , round(exit_velocity(Pc, Pe, Tc , R, k) , 2))"
   ]
  },
  {
   "cell_type": "code",
   "execution_count": 160,
   "id": "f3769455-dc43-46ea-ba2f-0544f309745d",
   "metadata": {},
   "outputs": [
    {
     "name": "stdout",
     "output_type": "stream",
     "text": [
      "gamma =  0.6709\n",
      "characteristic velocity [m/s] =  1374.54\n"
     ]
    }
   ],
   "source": [
    "## 3))  Characteristic Velocity\n",
    "tc = 2250\n",
    "k = 1.32\n",
    "Ro = 8.314 # [J/mole-K]\n",
    "mw = 22  # [ kg / kmol]\n",
    "MW = mw * .001 #[kg / kmol] * [mol / kmol] \n",
    "R = Ro / MW # [J / kg-K]\n",
    "# print('R [J / kg-K] = ' , round(R , 2))\n",
    "print('characteristic velocity [m/s] = ' , round(characteristic_velocity(tc, k, R) , 2))"
   ]
  },
  {
   "cell_type": "code",
   "execution_count": 161,
   "id": "139c7737-34ee-4e42-b6c8-e5f2e043e2df",
   "metadata": {},
   "outputs": [
    {
     "name": "stdout",
     "output_type": "stream",
     "text": [
      "dp 0.0\n",
      "thrust coefficient, Cf =  1.623591422601441\n",
      "ideal optimum thrust coefficient, Cf   =  1.62\n"
     ]
    }
   ],
   "source": [
    "## 4)) Ideal optimum thrust coefficient\n",
    "\n",
    "Pc = 16.5E+6 #[Pa]\n",
    "Pe = 0.1E+6 # [Pa]\n",
    "Pa = 0.1E+6 # [Pa]\n",
    "Ro = 8.314 # [J/mole-K]\n",
    "mw = 22  # [ kg / kmol]\n",
    "MW = mw * .001 #[kg / kmol] * [mol / kmol] \n",
    "R = Ro / MW # [J / kg-K]\n",
    "k = 1.32\n",
    "\n",
    "print('ideal optimum thrust coefficient, Cf   = ' , round(thrust_coefficient(Pc, Pe, Pa, k) , 2))\n"
   ]
  },
  {
   "cell_type": "code",
   "execution_count": 162,
   "id": "7f018b69-1c91-46d9-bb24-92c416f59cc6",
   "metadata": {},
   "outputs": [
    {
     "name": "stdout",
     "output_type": "stream",
     "text": [
      "dp 0.0\n",
      "thrust coefficient, Cf =  1.623591422601441\n",
      "Thrust [N] = 3214711.0167508526\n",
      "Thrust [MN] = 3.21\n"
     ]
    }
   ],
   "source": [
    "## 5)) The thrust generated in MN\n",
    "\n",
    "Pc = 16.5E+6 #[Pa]\n",
    "Pe = 0.1E+6 # [Pa]\n",
    "Pa = 0.1E+6 # [Pa]\n",
    "Ro = 8.314 # [J/mole-K]\n",
    "mw = 22  # [ kg / kmol]\n",
    "MW = mw * .001 #[kg / kmol] * [mol / kmol] \n",
    "R = Ro / MW # [J / kg-K]\n",
    "k = 1.32\n",
    "At = 0.12 # [m^2]\n",
    "\n",
    "\n",
    "Cf = thrust_coefficient(Pc, Pe, Pa, k)\n",
    "thrust = Cf*At*Pc\n",
    "print('Thrust [N] =' , thrust)\n",
    "print('Thrust [MN] =' , round(thrust / 1E+6 , 2))"
   ]
  },
  {
   "cell_type": "markdown",
   "id": "9cb050af-e164-4ddb-b451-041b439f5138",
   "metadata": {},
   "source": [
    "A booster rocket is designed to operate at an altitude of 12 kilometers. The chamber pressure and temperature are given as P𝑐 = 9 MPa, and T𝑐 = 3300K, with the molecular mass and specific heat ratio of hot gases being 22 kg/Kmol and 1.22, respectively. The gases are expanded through a convergent divergent nozzle with a throat diameter of 94.4 cm. The thrust generated by the nozzle is 7500 KN with a propellant mass flow rate of 3800 kg/s. Take universal gas constant, R0 is 8.314 J/mol-K and ambient pressure at 12 km as 19399 Pa. "
   ]
  },
  {
   "cell_type": "code",
   "execution_count": 163,
   "id": "85f232c2-11a4-446c-8e0d-5efa810fc55c",
   "metadata": {},
   "outputs": [
    {
     "name": "stdout",
     "output_type": "stream",
     "text": [
      "expansion ratio, ε,  [Ax / At] =  36.709\n"
     ]
    }
   ],
   "source": [
    "## 6)) The ratio of exit area to the throat area of the nozzle, also referred to as expansion ratio\n",
    "\n",
    "Pc = 9E+6 # [Pa]\n",
    "Tc = 3300 # [k]\n",
    "Ro = 8.314 # [J/mole-K]\n",
    "mw = 22 # [kg / kmol]\n",
    "MW = mw * .001 #[kg / kmol] * [mol / kmol] \n",
    "R = Ro / MW # [J / kg-K]\n",
    "k = 1.22\n",
    "Td = 0.944 # [m]\n",
    "At = 3.14159 * (Td / 2)**2\n",
    "thrust = 7500 # [kN]\n",
    "m_dot = 3800 # [kg/s]\n",
    "Pa = 19399 # [Pa]\n",
    "Px = 19399 # [Pa]\n",
    "\n",
    "print('expansion ratio, \\u03B5,  [Ax / At] = ' , round(area_ratio(Pc, Px, k) , 3))\n"
   ]
  },
  {
   "cell_type": "code",
   "execution_count": 164,
   "id": "dc7f1aef-8c26-449d-9bbc-f95075b8c4d7",
   "metadata": {},
   "outputs": [
    {
     "name": "stdout",
     "output_type": "stream",
     "text": [
      " exit area [m^2] = 25.692\n"
     ]
    }
   ],
   "source": [
    "## 7)) The exit area of the convergent-divergent nozzle in m2\n",
    "\n",
    "Pc = 9E+6 # [Pa]\n",
    "Tc = 3300 # [k]\n",
    "Ro = 8.314 # [J/mole-K]\n",
    "mw = 22 # [kg / kmol]\n",
    "MW = mw * .001 #[kg / kmol] * [mol / kmol] \n",
    "R = Ro / MW # [J / kg-K]\n",
    "k = 1.22\n",
    "Td = 0.944 # [m]\n",
    "At = 3.14159 * (Td / 2)**2\n",
    "thrust = 7500 # [kN]\n",
    "m_dot = 3800 # [kg/s]\n",
    "Pa = 19399 # [Pa]\n",
    "Px = 19399 # [Pa]\n",
    "\n",
    "Ae = At * area_ratio(Pc, Px, k)\n",
    "\n",
    "print(' exit area [m^2] =' , round(Ae , 3))"
   ]
  },
  {
   "cell_type": "code",
   "execution_count": 165,
   "id": "2a7989dc-e911-407a-9ba7-633e003a90a6",
   "metadata": {},
   "outputs": [
    {
     "name": "stdout",
     "output_type": "stream",
     "text": [
      "C* Actual [m/s] =  1657.65\n"
     ]
    }
   ],
   "source": [
    "## 8) Actual characteristic velocity in m/s\n",
    "\n",
    "Pc = 9E+6 # [Pa]\n",
    "Tc = 3300 # [k]\n",
    "Ro = 8.314 # [J/mole-K]\n",
    "mw = 22 # [kg / kmol]\n",
    "MW = mw * .001 #[kg / kmol] * [mol / kmol] \n",
    "R = Ro / MW # [J / kg-K]\n",
    "k = 1.22\n",
    "Td = 0.944 # [m]\n",
    "At = 3.14159 * (Td / 2)**2\n",
    "thrust = 7500 # [kN]\n",
    "m_dot = 3800 # [kg/s]\n",
    "Pa = 19399 # [Pa]\n",
    "Px = Pa\n",
    "\n",
    "c_star_act = Pc * At / m_dot\n",
    "print('C* Actual [m/s] = ' , round(c_star_act , 2))\n"
   ]
  },
  {
   "cell_type": "code",
   "execution_count": 166,
   "id": "4f37cdf5-d18a-47ab-bb0c-0b9c3d727d84",
   "metadata": {},
   "outputs": [
    {
     "name": "stdout",
     "output_type": "stream",
     "text": [
      "gamma =  0.6524\n",
      "C* efficiency =  0.9684\n"
     ]
    }
   ],
   "source": [
    "## 9)) C* efficiency of the booster rocket\n",
    "\n",
    "Pc = 9E+6 # [Pa]\n",
    "Tc = 3300 # [k]\n",
    "Ro = 8.314 # [J/mole-K]\n",
    "mw = 22 # [kg / kmol]\n",
    "MW = mw * .001 #[kg / kmol] * [mol / kmol] \n",
    "R = Ro / MW # [J / kg-K]\n",
    "k = 1.22\n",
    "Td = 0.944 # [m]\n",
    "At = 3.14159 * (Td / 2)**2\n",
    "thrust = 7500 # [kN]\n",
    "m_dot = 3800 # [kg/s]\n",
    "Pa = 19399 # [Pa]\n",
    "Px = 19399 # [Pa]\n",
    "\n",
    "c_star_ideal = characteristic_velocity(Tc, k, R) \n",
    "c_star_act = Pc * At / m_dot\n",
    "\n",
    "c_star_eff = c_star_act / c_star_ideal\n",
    "\n",
    "print('C* efficiency = ' , round(c_star_eff , 4))"
   ]
  },
  {
   "cell_type": "markdown",
   "id": "b34fa2b6-c4bc-45ea-bea2-31bea37cf715",
   "metadata": {},
   "source": [
    "Syntin is a synthetic fuel developed by USSR in the early 1960s and was widely used in their rockets between 1970 and 1980. The propellant mixture consists of synthetic kerosene as a fuel and liquid oxygen as oxidizer. The properties of the exhaust gases are specific heat ratio = 1.24, Molecular weight = 23.30 kg/kmol. The propellant mass flow rate is 400 kg/s and the combustion chamber pressure and temperature are 35 atm and Tc = 3670 K respectively. The nozzle is designed for an optimum expansion at sea-level conditions. "
   ]
  },
  {
   "cell_type": "code",
   "execution_count": 167,
   "id": "16e1bd43-a722-4a29-b8fb-941693df8788",
   "metadata": {},
   "outputs": [
    {
     "name": "stdout",
     "output_type": "stream",
     "text": [
      "gamma =  0.6562\n",
      "Throat area [m^2] =  0.197\n"
     ]
    }
   ],
   "source": [
    "## 12)) Calculate the throat area of the nozzle (in m2) \n",
    "\n",
    "k = 1.24\n",
    "mw = 23.3 # [kg / kmol]\n",
    "Ro = 8.314 # [J/mole-K]\n",
    "MW = mw * .001 #[kg / kmol] * [mol / kmol] \n",
    "R = Ro / MW # [J / kg-K]\n",
    "m_dot = 400 # [kg / s]\n",
    "Pc = 101000 * 35 # [Pa]\n",
    "Tc = 3670 # [k]\n",
    "Pe = 101000 # [Pa]\n",
    "Pa = 101000 # [Pa]\n",
    "\n",
    "c_star_ideal = characteristic_velocity(Tc, k, R) \n",
    "\n",
    "At = m_dot * c_star_ideal / Pc\n",
    "\n",
    "print('Throat area [m^2] = ' , round(At , 3))\n"
   ]
  },
  {
   "cell_type": "code",
   "execution_count": 168,
   "id": "b2f1e507-fa7d-4aa5-9dcf-5d36c8218755",
   "metadata": {},
   "outputs": [
    {
     "name": "stdout",
     "output_type": "stream",
     "text": [
      "Exit velocity [m/s] =  2931.017263203817\n",
      "Exit temp, Te [k] =  1844.2261879636164\n",
      "speed of sound , a , [m/s] 903.326985915178\n",
      "Exit mach number , M =  3.245\n"
     ]
    }
   ],
   "source": [
    "## 13)) Estimate the nozzle exit Mach number if atmospheric pressure at sea level is 1.0 atm\n",
    "\n",
    "k = 1.24\n",
    "mw = 23.3 # [kg / kmol]\n",
    "Ro = 8.314 # [J/mole-K]\n",
    "MW = mw * .001 #[kg / kmol] * [mol / kmol] \n",
    "R = Ro / MW # [J / kg-K]\n",
    "m_dot = 400 # [kg / s]\n",
    "Pc = 101000 * 35 # [Pa]\n",
    "Tc = 3670 # [k]\n",
    "Pe = 101000 # [Pa]\n",
    "Pa = 101000 # [Pa]\n",
    "\n",
    "## Exit velocity calc:\n",
    "Ve = exit_velocity(Pc, Px, Tc, R, k)\n",
    "print('Exit velocity [m/s] = ', Ve)     \n",
    "\n",
    "## Exit temp for isentropic flow:\n",
    "Te = Tc * ((Pe / Pc)**((k-1)/k))\n",
    "print('Exit temp, Te [k] = ' , Te)\n",
    "\n",
    "## speed of sound [m/s]\n",
    "a = (k*R*Te)**.5\n",
    "print('speed of sound , a , [m/s]' , a)\n",
    "\n",
    "## exit mach number\n",
    "print('Exit mach number , M = ' , round(Ve/a , 3))"
   ]
  },
  {
   "cell_type": "code",
   "execution_count": 169,
   "id": "c977c584-ceac-42ab-bddc-cbc6e68470a3",
   "metadata": {},
   "outputs": [
    {
     "name": "stdout",
     "output_type": "stream",
     "text": [
      "expansion ratio =  5.09\n"
     ]
    }
   ],
   "source": [
    "## 14)) Calculate the expansion ratio (exit to throat area) of the rocket nozzle \n",
    "\n",
    "k = 1.24\n",
    "mw = 23.3 # [kg / kmol]\n",
    "Ro = 8.314 # [J/mole-K]\n",
    "MW = mw * .001 #[kg / kmol] * [mol / kmol] \n",
    "R = Ro / MW # [J / kg-K]\n",
    "m_dot = 400 # [kg / s]\n",
    "Pc = 101000 * 35 # [Pa]\n",
    "Tc = 3670 # [k]\n",
    "Px = 101000 # [Pa]\n",
    "Pa = 101000 # [Pa]\n",
    "\n",
    "print('expansion ratio = ' , round(area_ratio(Pc, Px, k) , 2))"
   ]
  },
  {
   "cell_type": "code",
   "execution_count": 170,
   "id": "3fd6ebb8-1681-4ee8-8428-9eff5d6d28c2",
   "metadata": {},
   "outputs": [
    {
     "name": "stdout",
     "output_type": "stream",
     "text": [
      "dp 0.0\n",
      "thrust coefficient, Cf =  1.4877755284078256\n",
      "ideal optimum thrust coefficient, Cf   =  1.49\n"
     ]
    }
   ],
   "source": [
    "## 15)) Determine the ideal thrust coefficient of the rocket.\n",
    "\n",
    "\n",
    "k = 1.24\n",
    "mw = 23.3 # [kg / kmol]\n",
    "Ro = 8.314 # [J/mole-K]\n",
    "MW = mw * .001 #[kg / kmol] * [mol / kmol] \n",
    "R = Ro / MW # [J / kg-K]\n",
    "m_dot = 400 # [kg / s]\n",
    "Pc = 101000 * 35 # [Pa]\n",
    "Tc = 3670 # [k]\n",
    "Px = 101000 # [Pa]\n",
    "Pa = 101000 # [Pa]\n",
    "\n",
    "print('ideal optimum thrust coefficient, Cf   = ' , round(thrust_coefficient(Pc, Px, Pa, k) , 2))\n"
   ]
  },
  {
   "cell_type": "code",
   "execution_count": 171,
   "id": "8b2a9b4f-052c-415d-a48b-c0373720b9c0",
   "metadata": {},
   "outputs": [
    {
     "name": "stdout",
     "output_type": "stream",
     "text": [
      "dp 0.13103406122300323\n",
      "thrust coefficient, Cf =  1.6188095896308288\n",
      "ideal optimum thrust coefficient, Cf   =  1.62\n"
     ]
    }
   ],
   "source": [
    "## 16))  Calculate the actual thrust coefficient of the rocket if the rocket \n",
    "##       is operating at an altitude of 16 kms above the sea-level where the ambient pressure is 0.01 MPa.\n",
    "\n",
    "k = 1.24\n",
    "mw = 23.3 # [kg / kmol]\n",
    "Ro = 8.314 # [J/mole-K]\n",
    "MW = mw * .001 #[kg / kmol] * [mol / kmol] \n",
    "R = Ro / MW # [J / kg-K]\n",
    "m_dot = 400 # [kg / s]\n",
    "Pc = 101000 * 35 # [Pa]\n",
    "Tc = 3670 # [k]\n",
    "Px = 101000 # [Pa]\n",
    "Pa = 0.01E+6 # [Pa]\n",
    "\n",
    "print('ideal optimum thrust coefficient, Cf   = ' , round(thrust_coefficient(Pc, Px, Pa, k) , 2))"
   ]
  },
  {
   "cell_type": "markdown",
   "id": "d5f63dd9-6cc7-48d7-9e8d-f60e430a0695",
   "metadata": {},
   "source": [
    "A rocket uses a conical nozzle with a semi-divergence angle of 15𝑜. The nozzle exit Mach number of the rocket is 3.5 and throat area is 0.2 m2. Specific heat ratio = 1.4."
   ]
  },
  {
   "cell_type": "code",
   "execution_count": 172,
   "id": "305d45e8-938f-4e08-87f1-7074663cca71",
   "metadata": {},
   "outputs": [
    {
     "name": "stdout",
     "output_type": "stream",
     "text": [
      "Divergence loss coefficient, lambda =  0.9829629131445341\n"
     ]
    }
   ],
   "source": [
    "## 17)) Calculate the divergence loss coefficient of the rocket.\n",
    "\n",
    "alpha = 15 # [degrees]\n",
    "Me = 3.5\n",
    "At = 0.2 # [m^]\n",
    "k = 1.4\n",
    "\n",
    "ll = (1 + math.cos(alpha * math.pi / 180)) / 2\n",
    "print('Divergence loss coefficient, lambda = ' , ll)"
   ]
  },
  {
   "cell_type": "code",
   "execution_count": null,
   "id": "27608ccd-3799-485f-9859-616bc202c3bf",
   "metadata": {},
   "outputs": [],
   "source": [
    "## 18)) Due to the semi-divergence angle, there is a loss in thrust of the rocket. What is the fractional loss in thrust?"
   ]
  },
  {
   "cell_type": "code",
   "execution_count": 173,
   "id": "dfb811fe-1a99-439b-a8e4-1a533c507e8f",
   "metadata": {},
   "outputs": [
    {
     "name": "stdout",
     "output_type": "stream",
     "text": [
      "fractional loss in thrust =  0.0170370868554659\n"
     ]
    }
   ],
   "source": [
    "alpha = 15 # [degrees]\n",
    "Me = 3.5\n",
    "At = 0.2 # [m^]\n",
    "k = 1.4\n",
    "\n",
    "ll = (1 + math.cos(alpha * math.pi / 180)) / 2\n",
    "delta = 1-ll\n",
    "print('fractional loss in thrust = ' , delta)"
   ]
  },
  {
   "cell_type": "code",
   "execution_count": null,
   "id": "34d5298b-8096-4b74-b309-c972109b5275",
   "metadata": {},
   "outputs": [],
   "source": [
    "## 19)) Determine the exit area of the nozzle in m2"
   ]
  },
  {
   "cell_type": "code",
   "execution_count": 174,
   "id": "f20040ec-d034-45e4-9996-a1a8241d3d43",
   "metadata": {},
   "outputs": [
    {
     "name": "stdout",
     "output_type": "stream",
     "text": [
      "area ratio based on Mach number =  6.789620535714286\n",
      "Exit area [m^2] =  1.3579241071428572\n"
     ]
    }
   ],
   "source": [
    "Me = 3.5\n",
    "Mt = 1.0\n",
    "At = 0.2 # [m^]\n",
    "k = 1.4\n",
    "\n",
    "area_rat_mach = area_ratio_mach(k, Mt, Me)\n",
    "print('area ratio based on Mach number = ' , area_rat_mach)\n",
    "Ae = area_rat_mach * At\n",
    "print('Exit area [m^2] = ' , Ae)"
   ]
  },
  {
   "cell_type": "code",
   "execution_count": 175,
   "id": "d4383193-b010-4578-8efa-248fc6c4c7bf",
   "metadata": {},
   "outputs": [
    {
     "name": "stdout",
     "output_type": "stream",
     "text": [
      "area ratio based on Mach number =  6.789620535714286\n",
      "Exit area [m^2] =  1.3579241071428572\n",
      "Throat to exit nozzle langth [m] =  1.5119913965042235\n",
      "Throat to exit nozzle langth [m] =  1.5119913965042235\n"
     ]
    }
   ],
   "source": [
    "## 20)) Calculate the divergent length, L𝑑 of the nozzle in meters\n",
    "\n",
    "\n",
    "Me = 3.5\n",
    "Mt = 1.0\n",
    "At = 0.2 # [m^]\n",
    "k = 1.4\n",
    "alpha = 15 # [degrees]\n",
    "\n",
    "area_rat_mach = area_ratio_mach(k, Mt, Me)\n",
    "print('area ratio based on Mach number = ' , area_rat_mach)\n",
    "Ae = area_rat_mach * At\n",
    "print('Exit area [m^2] = ' , Ae)\n",
    "\n",
    "Re = (Ae / math.pi)**.5\n",
    "Rt = (At / math.pi)**.5\n",
    "Ld = (Re - Rt) / math.tan(math.pi * alpha / 180)\n",
    "print('Throat to exit nozzle langth [m] = ' , Ld)\n",
    "print('Throat to exit nozzle langth [m] = ' , (Re - Rt) * (1/math.tan(math.pi * alpha / 180)) )"
   ]
  },
  {
   "cell_type": "code",
   "execution_count": null,
   "id": "4ec3bed5-2ffc-41e1-bc24-46d76201ad02",
   "metadata": {},
   "outputs": [],
   "source": []
  }
 ],
 "metadata": {
  "kernelspec": {
   "display_name": "Python 3",
   "language": "python",
   "name": "python3"
  },
  "language_info": {
   "codemirror_mode": {
    "name": "ipython",
    "version": 3
   },
   "file_extension": ".py",
   "mimetype": "text/x-python",
   "name": "python",
   "nbconvert_exporter": "python",
   "pygments_lexer": "ipython3",
   "version": "3.8.2"
  }
 },
 "nbformat": 4,
 "nbformat_minor": 5
}
